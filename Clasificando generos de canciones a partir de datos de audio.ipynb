{
 "cells": [
  {
   "cell_type": "markdown",
   "metadata": {},
   "source": [
    "# Clasificando generos de canciones usando datos de audio"
   ]
  },
  {
   "cell_type": "markdown",
   "metadata": {},
   "source": [
    "Objetivo: Clasificar generos de canciones usando un data set de audios. Contamos con dos datasets en formato .CSV y formato .JSON"
   ]
  },
  {
   "cell_type": "markdown",
   "metadata": {},
   "source": [
    "# 1. Preparando el dataset"
   ]
  },
  {
   "cell_type": "code",
   "execution_count": 24,
   "metadata": {},
   "outputs": [],
   "source": [
    "import pandas as pd\n",
    "import numpy as np\n",
    "# Dataframes a usar:\n",
    "# Metadatos de las canciones\n",
    "df0 = pd.read_csv('datasets/fma-rock-vs-hiphop.csv')\n",
    "# Caracteristicas de las canciones\n",
    "df1 = pd.read_json('datasets/echonest-metrics.json')\n",
    "\n",
    "# Fusion de los dos datasets\n",
    "\n",
    "df2 = pd.merge(df0[['track_id', 'genre_top']], df1, on='track_id')"
   ]
  },
  {
   "cell_type": "code",
   "execution_count": 22,
   "metadata": {},
   "outputs": [
    {
     "data": {
      "text/plain": [
       "Index(['track_id', 'bit_rate', 'comments', 'composer', 'date_created',\n",
       "       'date_recorded', 'duration', 'favorites', 'genre_top', 'genres',\n",
       "       'genres_all', 'information', 'interest', 'language_code', 'license',\n",
       "       'listens', 'lyricist', 'number', 'publisher', 'tags', 'title'],\n",
       "      dtype='object')"
      ]
     },
     "execution_count": 22,
     "metadata": {},
     "output_type": "execute_result"
    }
   ],
   "source": [
    "df0.columns"
   ]
  },
  {
   "cell_type": "code",
   "execution_count": 23,
   "metadata": {},
   "outputs": [
    {
     "data": {
      "text/plain": [
       "Index(['track_id', 'acousticness', 'danceability', 'energy',\n",
       "       'instrumentalness', 'liveness', 'speechiness', 'tempo', 'valence'],\n",
       "      dtype='object')"
      ]
     },
     "execution_count": 23,
     "metadata": {},
     "output_type": "execute_result"
    }
   ],
   "source": [
    "df1.columns"
   ]
  },
  {
   "cell_type": "code",
   "execution_count": 25,
   "metadata": {},
   "outputs": [
    {
     "data": {
      "text/html": [
       "<div>\n",
       "<style scoped>\n",
       "    .dataframe tbody tr th:only-of-type {\n",
       "        vertical-align: middle;\n",
       "    }\n",
       "\n",
       "    .dataframe tbody tr th {\n",
       "        vertical-align: top;\n",
       "    }\n",
       "\n",
       "    .dataframe thead th {\n",
       "        text-align: right;\n",
       "    }\n",
       "</style>\n",
       "<table border=\"1\" class=\"dataframe\">\n",
       "  <thead>\n",
       "    <tr style=\"text-align: right;\">\n",
       "      <th></th>\n",
       "      <th>track_id</th>\n",
       "      <th>genre_top</th>\n",
       "      <th>acousticness</th>\n",
       "      <th>danceability</th>\n",
       "      <th>energy</th>\n",
       "      <th>instrumentalness</th>\n",
       "      <th>liveness</th>\n",
       "      <th>speechiness</th>\n",
       "      <th>tempo</th>\n",
       "      <th>valence</th>\n",
       "    </tr>\n",
       "  </thead>\n",
       "  <tbody>\n",
       "    <tr>\n",
       "      <th>0</th>\n",
       "      <td>153</td>\n",
       "      <td>Rock</td>\n",
       "      <td>0.988306</td>\n",
       "      <td>0.255661</td>\n",
       "      <td>0.979774</td>\n",
       "      <td>0.973006</td>\n",
       "      <td>0.121342</td>\n",
       "      <td>0.051740</td>\n",
       "      <td>90.241</td>\n",
       "      <td>0.034018</td>\n",
       "    </tr>\n",
       "    <tr>\n",
       "      <th>1</th>\n",
       "      <td>154</td>\n",
       "      <td>Rock</td>\n",
       "      <td>0.970135</td>\n",
       "      <td>0.352946</td>\n",
       "      <td>0.023852</td>\n",
       "      <td>0.957113</td>\n",
       "      <td>0.113261</td>\n",
       "      <td>0.032177</td>\n",
       "      <td>53.758</td>\n",
       "      <td>0.035632</td>\n",
       "    </tr>\n",
       "    <tr>\n",
       "      <th>2</th>\n",
       "      <td>155</td>\n",
       "      <td>Rock</td>\n",
       "      <td>0.981657</td>\n",
       "      <td>0.142249</td>\n",
       "      <td>0.912122</td>\n",
       "      <td>0.967294</td>\n",
       "      <td>0.363510</td>\n",
       "      <td>0.087527</td>\n",
       "      <td>91.912</td>\n",
       "      <td>0.034325</td>\n",
       "    </tr>\n",
       "    <tr>\n",
       "      <th>3</th>\n",
       "      <td>169</td>\n",
       "      <td>Rock</td>\n",
       "      <td>0.989141</td>\n",
       "      <td>0.225978</td>\n",
       "      <td>0.722835</td>\n",
       "      <td>0.263076</td>\n",
       "      <td>0.092371</td>\n",
       "      <td>0.053406</td>\n",
       "      <td>94.322</td>\n",
       "      <td>0.028347</td>\n",
       "    </tr>\n",
       "    <tr>\n",
       "      <th>4</th>\n",
       "      <td>170</td>\n",
       "      <td>Rock</td>\n",
       "      <td>0.886660</td>\n",
       "      <td>0.298518</td>\n",
       "      <td>0.744333</td>\n",
       "      <td>0.920950</td>\n",
       "      <td>0.139587</td>\n",
       "      <td>0.088781</td>\n",
       "      <td>97.880</td>\n",
       "      <td>0.073548</td>\n",
       "    </tr>\n",
       "  </tbody>\n",
       "</table>\n",
       "</div>"
      ],
      "text/plain": [
       "   track_id genre_top  acousticness  danceability    energy  instrumentalness  \\\n",
       "0       153      Rock      0.988306      0.255661  0.979774          0.973006   \n",
       "1       154      Rock      0.970135      0.352946  0.023852          0.957113   \n",
       "2       155      Rock      0.981657      0.142249  0.912122          0.967294   \n",
       "3       169      Rock      0.989141      0.225978  0.722835          0.263076   \n",
       "4       170      Rock      0.886660      0.298518  0.744333          0.920950   \n",
       "\n",
       "   liveness  speechiness   tempo   valence  \n",
       "0  0.121342     0.051740  90.241  0.034018  \n",
       "1  0.113261     0.032177  53.758  0.035632  \n",
       "2  0.363510     0.087527  91.912  0.034325  \n",
       "3  0.092371     0.053406  94.322  0.028347  \n",
       "4  0.139587     0.088781  97.880  0.073548  "
      ]
     },
     "execution_count": 25,
     "metadata": {},
     "output_type": "execute_result"
    }
   ],
   "source": [
    "df2.head()"
   ]
  },
  {
   "cell_type": "markdown",
   "metadata": {},
   "source": [
    "El dataset de interes es el df2."
   ]
  },
  {
   "cell_type": "markdown",
   "metadata": {},
   "source": [
    "# 2. Reduccion dimensional"
   ]
  },
  {
   "cell_type": "markdown",
   "metadata": {},
   "source": [
    "## a) Variables correlacionadas"
   ]
  },
  {
   "cell_type": "markdown",
   "metadata": {},
   "source": [
    "Es util conocer si dos o mas pares de variables en el dataset (df2) estan correlacionadas, pues correlacion implica redundancia. Es util reducir la dimension del dataset, es decir la redundancia, porque tiene como beneficio optimizar el rendimiento computacional entre otros. Para ello usare una matriz dimensional como la siguiente:"
   ]
  },
  {
   "cell_type": "code",
   "execution_count": 30,
   "metadata": {},
   "outputs": [],
   "source": [
    "matriz_de_correlacion = df2.corr()"
   ]
  },
  {
   "cell_type": "code",
   "execution_count": 33,
   "metadata": {},
   "outputs": [
    {
     "data": {
      "text/html": [
       "<style  type=\"text/css\" >\n",
       "    #T_bbf99106_5ece_11e9_b4d0_9c305b97b1fcrow0_col0 {\n",
       "            background-color:  #023858;\n",
       "            color:  #f1f1f1;\n",
       "        }    #T_bbf99106_5ece_11e9_b4d0_9c305b97b1fcrow0_col1 {\n",
       "            background-color:  #fff7fb;\n",
       "            color:  #000000;\n",
       "        }    #T_bbf99106_5ece_11e9_b4d0_9c305b97b1fcrow0_col2 {\n",
       "            background-color:  #d2d2e7;\n",
       "            color:  #000000;\n",
       "        }    #T_bbf99106_5ece_11e9_b4d0_9c305b97b1fcrow0_col3 {\n",
       "            background-color:  #b5c4df;\n",
       "            color:  #000000;\n",
       "        }    #T_bbf99106_5ece_11e9_b4d0_9c305b97b1fcrow0_col4 {\n",
       "            background-color:  #f5eef6;\n",
       "            color:  #000000;\n",
       "        }    #T_bbf99106_5ece_11e9_b4d0_9c305b97b1fcrow0_col5 {\n",
       "            background-color:  #e9e5f1;\n",
       "            color:  #000000;\n",
       "        }    #T_bbf99106_5ece_11e9_b4d0_9c305b97b1fcrow0_col6 {\n",
       "            background-color:  #d1d2e6;\n",
       "            color:  #000000;\n",
       "        }    #T_bbf99106_5ece_11e9_b4d0_9c305b97b1fcrow0_col7 {\n",
       "            background-color:  #e1dfed;\n",
       "            color:  #000000;\n",
       "        }    #T_bbf99106_5ece_11e9_b4d0_9c305b97b1fcrow0_col8 {\n",
       "            background-color:  #dedcec;\n",
       "            color:  #000000;\n",
       "        }    #T_bbf99106_5ece_11e9_b4d0_9c305b97b1fcrow1_col0 {\n",
       "            background-color:  #fff7fb;\n",
       "            color:  #000000;\n",
       "        }    #T_bbf99106_5ece_11e9_b4d0_9c305b97b1fcrow1_col1 {\n",
       "            background-color:  #023858;\n",
       "            color:  #f1f1f1;\n",
       "        }    #T_bbf99106_5ece_11e9_b4d0_9c305b97b1fcrow1_col2 {\n",
       "            background-color:  #e0dded;\n",
       "            color:  #000000;\n",
       "        }    #T_bbf99106_5ece_11e9_b4d0_9c305b97b1fcrow1_col3 {\n",
       "            background-color:  #fff7fb;\n",
       "            color:  #000000;\n",
       "        }    #T_bbf99106_5ece_11e9_b4d0_9c305b97b1fcrow1_col4 {\n",
       "            background-color:  #97b7d7;\n",
       "            color:  #000000;\n",
       "        }    #T_bbf99106_5ece_11e9_b4d0_9c305b97b1fcrow1_col5 {\n",
       "            background-color:  #f3edf5;\n",
       "            color:  #000000;\n",
       "        }    #T_bbf99106_5ece_11e9_b4d0_9c305b97b1fcrow1_col6 {\n",
       "            background-color:  #b8c6e0;\n",
       "            color:  #000000;\n",
       "        }    #T_bbf99106_5ece_11e9_b4d0_9c305b97b1fcrow1_col7 {\n",
       "            background-color:  #e1dfed;\n",
       "            color:  #000000;\n",
       "        }    #T_bbf99106_5ece_11e9_b4d0_9c305b97b1fcrow1_col8 {\n",
       "            background-color:  #e2dfee;\n",
       "            color:  #000000;\n",
       "        }    #T_bbf99106_5ece_11e9_b4d0_9c305b97b1fcrow2_col0 {\n",
       "            background-color:  #bdc8e1;\n",
       "            color:  #000000;\n",
       "        }    #T_bbf99106_5ece_11e9_b4d0_9c305b97b1fcrow2_col1 {\n",
       "            background-color:  #d0d1e6;\n",
       "            color:  #000000;\n",
       "        }    #T_bbf99106_5ece_11e9_b4d0_9c305b97b1fcrow2_col2 {\n",
       "            background-color:  #023858;\n",
       "            color:  #f1f1f1;\n",
       "        }    #T_bbf99106_5ece_11e9_b4d0_9c305b97b1fcrow2_col3 {\n",
       "            background-color:  #fbf3f9;\n",
       "            color:  #000000;\n",
       "        }    #T_bbf99106_5ece_11e9_b4d0_9c305b97b1fcrow2_col4 {\n",
       "            background-color:  #f3edf5;\n",
       "            color:  #000000;\n",
       "        }    #T_bbf99106_5ece_11e9_b4d0_9c305b97b1fcrow2_col5 {\n",
       "            background-color:  #fff7fb;\n",
       "            color:  #000000;\n",
       "        }    #T_bbf99106_5ece_11e9_b4d0_9c305b97b1fcrow2_col6 {\n",
       "            background-color:  #80aed2;\n",
       "            color:  #000000;\n",
       "        }    #T_bbf99106_5ece_11e9_b4d0_9c305b97b1fcrow2_col7 {\n",
       "            background-color:  #fff7fb;\n",
       "            color:  #000000;\n",
       "        }    #T_bbf99106_5ece_11e9_b4d0_9c305b97b1fcrow2_col8 {\n",
       "            background-color:  #529bc7;\n",
       "            color:  #000000;\n",
       "        }    #T_bbf99106_5ece_11e9_b4d0_9c305b97b1fcrow3_col0 {\n",
       "            background-color:  #a7bddb;\n",
       "            color:  #000000;\n",
       "        }    #T_bbf99106_5ece_11e9_b4d0_9c305b97b1fcrow3_col1 {\n",
       "            background-color:  #f5eff6;\n",
       "            color:  #000000;\n",
       "        }    #T_bbf99106_5ece_11e9_b4d0_9c305b97b1fcrow3_col2 {\n",
       "            background-color:  #fef6fa;\n",
       "            color:  #000000;\n",
       "        }    #T_bbf99106_5ece_11e9_b4d0_9c305b97b1fcrow3_col3 {\n",
       "            background-color:  #023858;\n",
       "            color:  #f1f1f1;\n",
       "        }    #T_bbf99106_5ece_11e9_b4d0_9c305b97b1fcrow3_col4 {\n",
       "            background-color:  #c4cbe3;\n",
       "            color:  #000000;\n",
       "        }    #T_bbf99106_5ece_11e9_b4d0_9c305b97b1fcrow3_col5 {\n",
       "            background-color:  #dcdaeb;\n",
       "            color:  #000000;\n",
       "        }    #T_bbf99106_5ece_11e9_b4d0_9c305b97b1fcrow3_col6 {\n",
       "            background-color:  #dedcec;\n",
       "            color:  #000000;\n",
       "        }    #T_bbf99106_5ece_11e9_b4d0_9c305b97b1fcrow3_col7 {\n",
       "            background-color:  #adc1dd;\n",
       "            color:  #000000;\n",
       "        }    #T_bbf99106_5ece_11e9_b4d0_9c305b97b1fcrow3_col8 {\n",
       "            background-color:  #d9d8ea;\n",
       "            color:  #000000;\n",
       "        }    #T_bbf99106_5ece_11e9_b4d0_9c305b97b1fcrow4_col0 {\n",
       "            background-color:  #f4eef6;\n",
       "            color:  #000000;\n",
       "        }    #T_bbf99106_5ece_11e9_b4d0_9c305b97b1fcrow4_col1 {\n",
       "            background-color:  #97b7d7;\n",
       "            color:  #000000;\n",
       "        }    #T_bbf99106_5ece_11e9_b4d0_9c305b97b1fcrow4_col2 {\n",
       "            background-color:  #fff7fb;\n",
       "            color:  #000000;\n",
       "        }    #T_bbf99106_5ece_11e9_b4d0_9c305b97b1fcrow4_col3 {\n",
       "            background-color:  #d2d3e7;\n",
       "            color:  #000000;\n",
       "        }    #T_bbf99106_5ece_11e9_b4d0_9c305b97b1fcrow4_col4 {\n",
       "            background-color:  #023858;\n",
       "            color:  #f1f1f1;\n",
       "        }    #T_bbf99106_5ece_11e9_b4d0_9c305b97b1fcrow4_col5 {\n",
       "            background-color:  #fdf5fa;\n",
       "            color:  #000000;\n",
       "        }    #T_bbf99106_5ece_11e9_b4d0_9c305b97b1fcrow4_col6 {\n",
       "            background-color:  #fff7fb;\n",
       "            color:  #000000;\n",
       "        }    #T_bbf99106_5ece_11e9_b4d0_9c305b97b1fcrow4_col7 {\n",
       "            background-color:  #d9d8ea;\n",
       "            color:  #000000;\n",
       "        }    #T_bbf99106_5ece_11e9_b4d0_9c305b97b1fcrow4_col8 {\n",
       "            background-color:  #fff7fb;\n",
       "            color:  #000000;\n",
       "        }    #T_bbf99106_5ece_11e9_b4d0_9c305b97b1fcrow5_col0 {\n",
       "            background-color:  #bdc8e1;\n",
       "            color:  #000000;\n",
       "        }    #T_bbf99106_5ece_11e9_b4d0_9c305b97b1fcrow5_col1 {\n",
       "            background-color:  #ced0e6;\n",
       "            color:  #000000;\n",
       "        }    #T_bbf99106_5ece_11e9_b4d0_9c305b97b1fcrow5_col2 {\n",
       "            background-color:  #ede8f3;\n",
       "            color:  #000000;\n",
       "        }    #T_bbf99106_5ece_11e9_b4d0_9c305b97b1fcrow5_col3 {\n",
       "            background-color:  #bdc8e1;\n",
       "            color:  #000000;\n",
       "        }    #T_bbf99106_5ece_11e9_b4d0_9c305b97b1fcrow5_col4 {\n",
       "            background-color:  #dbdaeb;\n",
       "            color:  #000000;\n",
       "        }    #T_bbf99106_5ece_11e9_b4d0_9c305b97b1fcrow5_col5 {\n",
       "            background-color:  #023858;\n",
       "            color:  #f1f1f1;\n",
       "        }    #T_bbf99106_5ece_11e9_b4d0_9c305b97b1fcrow5_col6 {\n",
       "            background-color:  #c0c9e2;\n",
       "            color:  #000000;\n",
       "        }    #T_bbf99106_5ece_11e9_b4d0_9c305b97b1fcrow5_col7 {\n",
       "            background-color:  #dcdaeb;\n",
       "            color:  #000000;\n",
       "        }    #T_bbf99106_5ece_11e9_b4d0_9c305b97b1fcrow5_col8 {\n",
       "            background-color:  #e8e4f0;\n",
       "            color:  #000000;\n",
       "        }    #T_bbf99106_5ece_11e9_b4d0_9c305b97b1fcrow6_col0 {\n",
       "            background-color:  #d0d1e6;\n",
       "            color:  #000000;\n",
       "        }    #T_bbf99106_5ece_11e9_b4d0_9c305b97b1fcrow6_col1 {\n",
       "            background-color:  #b8c6e0;\n",
       "            color:  #000000;\n",
       "        }    #T_bbf99106_5ece_11e9_b4d0_9c305b97b1fcrow6_col2 {\n",
       "            background-color:  #93b5d6;\n",
       "            color:  #000000;\n",
       "        }    #T_bbf99106_5ece_11e9_b4d0_9c305b97b1fcrow6_col3 {\n",
       "            background-color:  #eae6f1;\n",
       "            color:  #000000;\n",
       "        }    #T_bbf99106_5ece_11e9_b4d0_9c305b97b1fcrow6_col4 {\n",
       "            background-color:  #fff7fb;\n",
       "            color:  #000000;\n",
       "        }    #T_bbf99106_5ece_11e9_b4d0_9c305b97b1fcrow6_col5 {\n",
       "            background-color:  #eae6f1;\n",
       "            color:  #000000;\n",
       "        }    #T_bbf99106_5ece_11e9_b4d0_9c305b97b1fcrow6_col6 {\n",
       "            background-color:  #023858;\n",
       "            color:  #f1f1f1;\n",
       "        }    #T_bbf99106_5ece_11e9_b4d0_9c305b97b1fcrow6_col7 {\n",
       "            background-color:  #dbdaeb;\n",
       "            color:  #000000;\n",
       "        }    #T_bbf99106_5ece_11e9_b4d0_9c305b97b1fcrow6_col8 {\n",
       "            background-color:  #bfc9e1;\n",
       "            color:  #000000;\n",
       "        }    #T_bbf99106_5ece_11e9_b4d0_9c305b97b1fcrow7_col0 {\n",
       "            background-color:  #d0d1e6;\n",
       "            color:  #000000;\n",
       "        }    #T_bbf99106_5ece_11e9_b4d0_9c305b97b1fcrow7_col1 {\n",
       "            background-color:  #d0d1e6;\n",
       "            color:  #000000;\n",
       "        }    #T_bbf99106_5ece_11e9_b4d0_9c305b97b1fcrow7_col2 {\n",
       "            background-color:  #fef6fa;\n",
       "            color:  #000000;\n",
       "        }    #T_bbf99106_5ece_11e9_b4d0_9c305b97b1fcrow7_col3 {\n",
       "            background-color:  #a7bddb;\n",
       "            color:  #000000;\n",
       "        }    #T_bbf99106_5ece_11e9_b4d0_9c305b97b1fcrow7_col4 {\n",
       "            background-color:  #c5cce3;\n",
       "            color:  #000000;\n",
       "        }    #T_bbf99106_5ece_11e9_b4d0_9c305b97b1fcrow7_col5 {\n",
       "            background-color:  #f0eaf4;\n",
       "            color:  #000000;\n",
       "        }    #T_bbf99106_5ece_11e9_b4d0_9c305b97b1fcrow7_col6 {\n",
       "            background-color:  #c8cde4;\n",
       "            color:  #000000;\n",
       "        }    #T_bbf99106_5ece_11e9_b4d0_9c305b97b1fcrow7_col7 {\n",
       "            background-color:  #023858;\n",
       "            color:  #f1f1f1;\n",
       "        }    #T_bbf99106_5ece_11e9_b4d0_9c305b97b1fcrow7_col8 {\n",
       "            background-color:  #d6d6e9;\n",
       "            color:  #000000;\n",
       "        }    #T_bbf99106_5ece_11e9_b4d0_9c305b97b1fcrow8_col0 {\n",
       "            background-color:  #c6cce3;\n",
       "            color:  #000000;\n",
       "        }    #T_bbf99106_5ece_11e9_b4d0_9c305b97b1fcrow8_col1 {\n",
       "            background-color:  #cdd0e5;\n",
       "            color:  #000000;\n",
       "        }    #T_bbf99106_5ece_11e9_b4d0_9c305b97b1fcrow8_col2 {\n",
       "            background-color:  #4c99c5;\n",
       "            color:  #000000;\n",
       "        }    #T_bbf99106_5ece_11e9_b4d0_9c305b97b1fcrow8_col3 {\n",
       "            background-color:  #d1d2e6;\n",
       "            color:  #000000;\n",
       "        }    #T_bbf99106_5ece_11e9_b4d0_9c305b97b1fcrow8_col4 {\n",
       "            background-color:  #efe9f3;\n",
       "            color:  #000000;\n",
       "        }    #T_bbf99106_5ece_11e9_b4d0_9c305b97b1fcrow8_col5 {\n",
       "            background-color:  #f7f0f7;\n",
       "            color:  #000000;\n",
       "        }    #T_bbf99106_5ece_11e9_b4d0_9c305b97b1fcrow8_col6 {\n",
       "            background-color:  #a5bddb;\n",
       "            color:  #000000;\n",
       "        }    #T_bbf99106_5ece_11e9_b4d0_9c305b97b1fcrow8_col7 {\n",
       "            background-color:  #d3d4e7;\n",
       "            color:  #000000;\n",
       "        }    #T_bbf99106_5ece_11e9_b4d0_9c305b97b1fcrow8_col8 {\n",
       "            background-color:  #023858;\n",
       "            color:  #f1f1f1;\n",
       "        }</style><table id=\"T_bbf99106_5ece_11e9_b4d0_9c305b97b1fc\" ><thead>    <tr>        <th class=\"blank level0\" ></th>        <th class=\"col_heading level0 col0\" >track_id</th>        <th class=\"col_heading level0 col1\" >acousticness</th>        <th class=\"col_heading level0 col2\" >danceability</th>        <th class=\"col_heading level0 col3\" >energy</th>        <th class=\"col_heading level0 col4\" >instrumentalness</th>        <th class=\"col_heading level0 col5\" >liveness</th>        <th class=\"col_heading level0 col6\" >speechiness</th>        <th class=\"col_heading level0 col7\" >tempo</th>        <th class=\"col_heading level0 col8\" >valence</th>    </tr></thead><tbody>\n",
       "                <tr>\n",
       "                        <th id=\"T_bbf99106_5ece_11e9_b4d0_9c305b97b1fclevel0_row0\" class=\"row_heading level0 row0\" >track_id</th>\n",
       "                        <td id=\"T_bbf99106_5ece_11e9_b4d0_9c305b97b1fcrow0_col0\" class=\"data row0 col0\" >1</td>\n",
       "                        <td id=\"T_bbf99106_5ece_11e9_b4d0_9c305b97b1fcrow0_col1\" class=\"data row0 col1\" >-0.372282</td>\n",
       "                        <td id=\"T_bbf99106_5ece_11e9_b4d0_9c305b97b1fcrow0_col2\" class=\"data row0 col2\" >0.0494541</td>\n",
       "                        <td id=\"T_bbf99106_5ece_11e9_b4d0_9c305b97b1fcrow0_col3\" class=\"data row0 col3\" >0.140703</td>\n",
       "                        <td id=\"T_bbf99106_5ece_11e9_b4d0_9c305b97b1fcrow0_col4\" class=\"data row0 col4\" >-0.275623</td>\n",
       "                        <td id=\"T_bbf99106_5ece_11e9_b4d0_9c305b97b1fcrow0_col5\" class=\"data row0 col5\" >0.0482307</td>\n",
       "                        <td id=\"T_bbf99106_5ece_11e9_b4d0_9c305b97b1fcrow0_col6\" class=\"data row0 col6\" >-0.0269951</td>\n",
       "                        <td id=\"T_bbf99106_5ece_11e9_b4d0_9c305b97b1fcrow0_col7\" class=\"data row0 col7\" >-0.0253918</td>\n",
       "                        <td id=\"T_bbf99106_5ece_11e9_b4d0_9c305b97b1fcrow0_col8\" class=\"data row0 col8\" >0.0100698</td>\n",
       "            </tr>\n",
       "            <tr>\n",
       "                        <th id=\"T_bbf99106_5ece_11e9_b4d0_9c305b97b1fclevel0_row1\" class=\"row_heading level0 row1\" >acousticness</th>\n",
       "                        <td id=\"T_bbf99106_5ece_11e9_b4d0_9c305b97b1fcrow1_col0\" class=\"data row1 col0\" >-0.372282</td>\n",
       "                        <td id=\"T_bbf99106_5ece_11e9_b4d0_9c305b97b1fcrow1_col1\" class=\"data row1 col1\" >1</td>\n",
       "                        <td id=\"T_bbf99106_5ece_11e9_b4d0_9c305b97b1fcrow1_col2\" class=\"data row1 col2\" >-0.0289537</td>\n",
       "                        <td id=\"T_bbf99106_5ece_11e9_b4d0_9c305b97b1fcrow1_col3\" class=\"data row1 col3\" >-0.281619</td>\n",
       "                        <td id=\"T_bbf99106_5ece_11e9_b4d0_9c305b97b1fcrow1_col4\" class=\"data row1 col4\" >0.19478</td>\n",
       "                        <td id=\"T_bbf99106_5ece_11e9_b4d0_9c305b97b1fcrow1_col5\" class=\"data row1 col5\" >-0.0199914</td>\n",
       "                        <td id=\"T_bbf99106_5ece_11e9_b4d0_9c305b97b1fcrow1_col6\" class=\"data row1 col6\" >0.072204</td>\n",
       "                        <td id=\"T_bbf99106_5ece_11e9_b4d0_9c305b97b1fcrow1_col7\" class=\"data row1 col7\" >-0.0263097</td>\n",
       "                        <td id=\"T_bbf99106_5ece_11e9_b4d0_9c305b97b1fcrow1_col8\" class=\"data row1 col8\" >-0.0138406</td>\n",
       "            </tr>\n",
       "            <tr>\n",
       "                        <th id=\"T_bbf99106_5ece_11e9_b4d0_9c305b97b1fclevel0_row2\" class=\"row_heading level0 row2\" >danceability</th>\n",
       "                        <td id=\"T_bbf99106_5ece_11e9_b4d0_9c305b97b1fcrow2_col0\" class=\"data row2 col0\" >0.0494541</td>\n",
       "                        <td id=\"T_bbf99106_5ece_11e9_b4d0_9c305b97b1fcrow2_col1\" class=\"data row2 col1\" >-0.0289537</td>\n",
       "                        <td id=\"T_bbf99106_5ece_11e9_b4d0_9c305b97b1fcrow2_col2\" class=\"data row2 col2\" >1</td>\n",
       "                        <td id=\"T_bbf99106_5ece_11e9_b4d0_9c305b97b1fcrow2_col3\" class=\"data row2 col3\" >-0.242032</td>\n",
       "                        <td id=\"T_bbf99106_5ece_11e9_b4d0_9c305b97b1fcrow2_col4\" class=\"data row2 col4\" >-0.255217</td>\n",
       "                        <td id=\"T_bbf99106_5ece_11e9_b4d0_9c305b97b1fcrow2_col5\" class=\"data row2 col5\" >-0.106584</td>\n",
       "                        <td id=\"T_bbf99106_5ece_11e9_b4d0_9c305b97b1fcrow2_col6\" class=\"data row2 col6\" >0.276206</td>\n",
       "                        <td id=\"T_bbf99106_5ece_11e9_b4d0_9c305b97b1fcrow2_col7\" class=\"data row2 col7\" >-0.242089</td>\n",
       "                        <td id=\"T_bbf99106_5ece_11e9_b4d0_9c305b97b1fcrow2_col8\" class=\"data row2 col8\" >0.473165</td>\n",
       "            </tr>\n",
       "            <tr>\n",
       "                        <th id=\"T_bbf99106_5ece_11e9_b4d0_9c305b97b1fclevel0_row3\" class=\"row_heading level0 row3\" >energy</th>\n",
       "                        <td id=\"T_bbf99106_5ece_11e9_b4d0_9c305b97b1fcrow3_col0\" class=\"data row3 col0\" >0.140703</td>\n",
       "                        <td id=\"T_bbf99106_5ece_11e9_b4d0_9c305b97b1fcrow3_col1\" class=\"data row3 col1\" >-0.281619</td>\n",
       "                        <td id=\"T_bbf99106_5ece_11e9_b4d0_9c305b97b1fcrow3_col2\" class=\"data row3 col2\" >-0.242032</td>\n",
       "                        <td id=\"T_bbf99106_5ece_11e9_b4d0_9c305b97b1fcrow3_col3\" class=\"data row3 col3\" >1</td>\n",
       "                        <td id=\"T_bbf99106_5ece_11e9_b4d0_9c305b97b1fcrow3_col4\" class=\"data row3 col4\" >0.0282377</td>\n",
       "                        <td id=\"T_bbf99106_5ece_11e9_b4d0_9c305b97b1fcrow3_col5\" class=\"data row3 col5\" >0.113331</td>\n",
       "                        <td id=\"T_bbf99106_5ece_11e9_b4d0_9c305b97b1fcrow3_col6\" class=\"data row3 col6\" >-0.109983</td>\n",
       "                        <td id=\"T_bbf99106_5ece_11e9_b4d0_9c305b97b1fcrow3_col7\" class=\"data row3 col7\" >0.195227</td>\n",
       "                        <td id=\"T_bbf99106_5ece_11e9_b4d0_9c305b97b1fcrow3_col8\" class=\"data row3 col8\" >0.0386027</td>\n",
       "            </tr>\n",
       "            <tr>\n",
       "                        <th id=\"T_bbf99106_5ece_11e9_b4d0_9c305b97b1fclevel0_row4\" class=\"row_heading level0 row4\" >instrumentalness</th>\n",
       "                        <td id=\"T_bbf99106_5ece_11e9_b4d0_9c305b97b1fcrow4_col0\" class=\"data row4 col0\" >-0.275623</td>\n",
       "                        <td id=\"T_bbf99106_5ece_11e9_b4d0_9c305b97b1fcrow4_col1\" class=\"data row4 col1\" >0.19478</td>\n",
       "                        <td id=\"T_bbf99106_5ece_11e9_b4d0_9c305b97b1fcrow4_col2\" class=\"data row4 col2\" >-0.255217</td>\n",
       "                        <td id=\"T_bbf99106_5ece_11e9_b4d0_9c305b97b1fcrow4_col3\" class=\"data row4 col3\" >0.0282377</td>\n",
       "                        <td id=\"T_bbf99106_5ece_11e9_b4d0_9c305b97b1fcrow4_col4\" class=\"data row4 col4\" >1</td>\n",
       "                        <td id=\"T_bbf99106_5ece_11e9_b4d0_9c305b97b1fcrow4_col5\" class=\"data row4 col5\" >-0.0910218</td>\n",
       "                        <td id=\"T_bbf99106_5ece_11e9_b4d0_9c305b97b1fcrow4_col6\" class=\"data row4 col6\" >-0.366762</td>\n",
       "                        <td id=\"T_bbf99106_5ece_11e9_b4d0_9c305b97b1fcrow4_col7\" class=\"data row4 col7\" >0.022215</td>\n",
       "                        <td id=\"T_bbf99106_5ece_11e9_b4d0_9c305b97b1fcrow4_col8\" class=\"data row4 col8\" >-0.219967</td>\n",
       "            </tr>\n",
       "            <tr>\n",
       "                        <th id=\"T_bbf99106_5ece_11e9_b4d0_9c305b97b1fclevel0_row5\" class=\"row_heading level0 row5\" >liveness</th>\n",
       "                        <td id=\"T_bbf99106_5ece_11e9_b4d0_9c305b97b1fcrow5_col0\" class=\"data row5 col0\" >0.0482307</td>\n",
       "                        <td id=\"T_bbf99106_5ece_11e9_b4d0_9c305b97b1fcrow5_col1\" class=\"data row5 col1\" >-0.0199914</td>\n",
       "                        <td id=\"T_bbf99106_5ece_11e9_b4d0_9c305b97b1fcrow5_col2\" class=\"data row5 col2\" >-0.106584</td>\n",
       "                        <td id=\"T_bbf99106_5ece_11e9_b4d0_9c305b97b1fcrow5_col3\" class=\"data row5 col3\" >0.113331</td>\n",
       "                        <td id=\"T_bbf99106_5ece_11e9_b4d0_9c305b97b1fcrow5_col4\" class=\"data row5 col4\" >-0.0910218</td>\n",
       "                        <td id=\"T_bbf99106_5ece_11e9_b4d0_9c305b97b1fcrow5_col5\" class=\"data row5 col5\" >1</td>\n",
       "                        <td id=\"T_bbf99106_5ece_11e9_b4d0_9c305b97b1fcrow5_col6\" class=\"data row5 col6\" >0.0411725</td>\n",
       "                        <td id=\"T_bbf99106_5ece_11e9_b4d0_9c305b97b1fcrow5_col7\" class=\"data row5 col7\" >0.00273169</td>\n",
       "                        <td id=\"T_bbf99106_5ece_11e9_b4d0_9c305b97b1fcrow5_col8\" class=\"data row5 col8\" >-0.0450931</td>\n",
       "            </tr>\n",
       "            <tr>\n",
       "                        <th id=\"T_bbf99106_5ece_11e9_b4d0_9c305b97b1fclevel0_row6\" class=\"row_heading level0 row6\" >speechiness</th>\n",
       "                        <td id=\"T_bbf99106_5ece_11e9_b4d0_9c305b97b1fcrow6_col0\" class=\"data row6 col0\" >-0.0269951</td>\n",
       "                        <td id=\"T_bbf99106_5ece_11e9_b4d0_9c305b97b1fcrow6_col1\" class=\"data row6 col1\" >0.072204</td>\n",
       "                        <td id=\"T_bbf99106_5ece_11e9_b4d0_9c305b97b1fcrow6_col2\" class=\"data row6 col2\" >0.276206</td>\n",
       "                        <td id=\"T_bbf99106_5ece_11e9_b4d0_9c305b97b1fcrow6_col3\" class=\"data row6 col3\" >-0.109983</td>\n",
       "                        <td id=\"T_bbf99106_5ece_11e9_b4d0_9c305b97b1fcrow6_col4\" class=\"data row6 col4\" >-0.366762</td>\n",
       "                        <td id=\"T_bbf99106_5ece_11e9_b4d0_9c305b97b1fcrow6_col5\" class=\"data row6 col5\" >0.0411725</td>\n",
       "                        <td id=\"T_bbf99106_5ece_11e9_b4d0_9c305b97b1fcrow6_col6\" class=\"data row6 col6\" >1</td>\n",
       "                        <td id=\"T_bbf99106_5ece_11e9_b4d0_9c305b97b1fcrow6_col7\" class=\"data row6 col7\" >0.00824055</td>\n",
       "                        <td id=\"T_bbf99106_5ece_11e9_b4d0_9c305b97b1fcrow6_col8\" class=\"data row6 col8\" >0.149894</td>\n",
       "            </tr>\n",
       "            <tr>\n",
       "                        <th id=\"T_bbf99106_5ece_11e9_b4d0_9c305b97b1fclevel0_row7\" class=\"row_heading level0 row7\" >tempo</th>\n",
       "                        <td id=\"T_bbf99106_5ece_11e9_b4d0_9c305b97b1fcrow7_col0\" class=\"data row7 col0\" >-0.0253918</td>\n",
       "                        <td id=\"T_bbf99106_5ece_11e9_b4d0_9c305b97b1fcrow7_col1\" class=\"data row7 col1\" >-0.0263097</td>\n",
       "                        <td id=\"T_bbf99106_5ece_11e9_b4d0_9c305b97b1fcrow7_col2\" class=\"data row7 col2\" >-0.242089</td>\n",
       "                        <td id=\"T_bbf99106_5ece_11e9_b4d0_9c305b97b1fcrow7_col3\" class=\"data row7 col3\" >0.195227</td>\n",
       "                        <td id=\"T_bbf99106_5ece_11e9_b4d0_9c305b97b1fcrow7_col4\" class=\"data row7 col4\" >0.022215</td>\n",
       "                        <td id=\"T_bbf99106_5ece_11e9_b4d0_9c305b97b1fcrow7_col5\" class=\"data row7 col5\" >0.00273169</td>\n",
       "                        <td id=\"T_bbf99106_5ece_11e9_b4d0_9c305b97b1fcrow7_col6\" class=\"data row7 col6\" >0.00824055</td>\n",
       "                        <td id=\"T_bbf99106_5ece_11e9_b4d0_9c305b97b1fcrow7_col7\" class=\"data row7 col7\" >1</td>\n",
       "                        <td id=\"T_bbf99106_5ece_11e9_b4d0_9c305b97b1fcrow7_col8\" class=\"data row7 col8\" >0.0522212</td>\n",
       "            </tr>\n",
       "            <tr>\n",
       "                        <th id=\"T_bbf99106_5ece_11e9_b4d0_9c305b97b1fclevel0_row8\" class=\"row_heading level0 row8\" >valence</th>\n",
       "                        <td id=\"T_bbf99106_5ece_11e9_b4d0_9c305b97b1fcrow8_col0\" class=\"data row8 col0\" >0.0100698</td>\n",
       "                        <td id=\"T_bbf99106_5ece_11e9_b4d0_9c305b97b1fcrow8_col1\" class=\"data row8 col1\" >-0.0138406</td>\n",
       "                        <td id=\"T_bbf99106_5ece_11e9_b4d0_9c305b97b1fcrow8_col2\" class=\"data row8 col2\" >0.473165</td>\n",
       "                        <td id=\"T_bbf99106_5ece_11e9_b4d0_9c305b97b1fcrow8_col3\" class=\"data row8 col3\" >0.0386027</td>\n",
       "                        <td id=\"T_bbf99106_5ece_11e9_b4d0_9c305b97b1fcrow8_col4\" class=\"data row8 col4\" >-0.219967</td>\n",
       "                        <td id=\"T_bbf99106_5ece_11e9_b4d0_9c305b97b1fcrow8_col5\" class=\"data row8 col5\" >-0.0450931</td>\n",
       "                        <td id=\"T_bbf99106_5ece_11e9_b4d0_9c305b97b1fcrow8_col6\" class=\"data row8 col6\" >0.149894</td>\n",
       "                        <td id=\"T_bbf99106_5ece_11e9_b4d0_9c305b97b1fcrow8_col7\" class=\"data row8 col7\" >0.0522212</td>\n",
       "                        <td id=\"T_bbf99106_5ece_11e9_b4d0_9c305b97b1fcrow8_col8\" class=\"data row8 col8\" >1</td>\n",
       "            </tr>\n",
       "    </tbody></table>"
      ],
      "text/plain": [
       "<pandas.io.formats.style.Styler at 0x2166167f588>"
      ]
     },
     "execution_count": 33,
     "metadata": {},
     "output_type": "execute_result"
    }
   ],
   "source": [
    "matriz_de_correlacion.style.background_gradient()"
   ]
  },
  {
   "cell_type": "markdown",
   "metadata": {},
   "source": [
    "Como se aprecia, no hay una correlacion significativa entre las caracateristicas del dataset que estamos analizando."
   ]
  },
  {
   "cell_type": "markdown",
   "metadata": {},
   "source": [
    "## b) Principal Component Analysis (PCA)"
   ]
  },
  {
   "cell_type": "markdown",
   "metadata": {},
   "source": [
    "El principal component analysis es un algoritmo que permite eliminar informacion redundante en un dataset. Es decir, reducir la dimension de un data set.\n"
   ]
  },
  {
   "cell_type": "markdown",
   "metadata": {},
   "source": [
    "Para poder aplicar este algoritmo es necesario en primer lugar Normalizar el dataset."
   ]
  },
  {
   "cell_type": "code",
   "execution_count": 54,
   "metadata": {},
   "outputs": [],
   "source": [
    "# Dataset de las caracteristicas de las canciones.\n",
    "\n",
    "caracteristicas = df2.drop(['track_id', 'genre_top'], axis=1)\n",
    "\n",
    "# Dataset de los generos de las canciones.\n",
    "generos = df2[['genre_top']]"
   ]
  },
  {
   "cell_type": "code",
   "execution_count": 55,
   "metadata": {},
   "outputs": [
    {
     "data": {
      "text/html": [
       "<div>\n",
       "<style scoped>\n",
       "    .dataframe tbody tr th:only-of-type {\n",
       "        vertical-align: middle;\n",
       "    }\n",
       "\n",
       "    .dataframe tbody tr th {\n",
       "        vertical-align: top;\n",
       "    }\n",
       "\n",
       "    .dataframe thead th {\n",
       "        text-align: right;\n",
       "    }\n",
       "</style>\n",
       "<table border=\"1\" class=\"dataframe\">\n",
       "  <thead>\n",
       "    <tr style=\"text-align: right;\">\n",
       "      <th></th>\n",
       "      <th>acousticness</th>\n",
       "      <th>danceability</th>\n",
       "      <th>energy</th>\n",
       "      <th>instrumentalness</th>\n",
       "      <th>liveness</th>\n",
       "      <th>speechiness</th>\n",
       "      <th>tempo</th>\n",
       "      <th>valence</th>\n",
       "    </tr>\n",
       "  </thead>\n",
       "  <tbody>\n",
       "    <tr>\n",
       "      <th>0</th>\n",
       "      <td>0.988306</td>\n",
       "      <td>0.255661</td>\n",
       "      <td>0.979774</td>\n",
       "      <td>0.973006</td>\n",
       "      <td>0.121342</td>\n",
       "      <td>0.051740</td>\n",
       "      <td>90.241</td>\n",
       "      <td>0.034018</td>\n",
       "    </tr>\n",
       "    <tr>\n",
       "      <th>1</th>\n",
       "      <td>0.970135</td>\n",
       "      <td>0.352946</td>\n",
       "      <td>0.023852</td>\n",
       "      <td>0.957113</td>\n",
       "      <td>0.113261</td>\n",
       "      <td>0.032177</td>\n",
       "      <td>53.758</td>\n",
       "      <td>0.035632</td>\n",
       "    </tr>\n",
       "    <tr>\n",
       "      <th>2</th>\n",
       "      <td>0.981657</td>\n",
       "      <td>0.142249</td>\n",
       "      <td>0.912122</td>\n",
       "      <td>0.967294</td>\n",
       "      <td>0.363510</td>\n",
       "      <td>0.087527</td>\n",
       "      <td>91.912</td>\n",
       "      <td>0.034325</td>\n",
       "    </tr>\n",
       "    <tr>\n",
       "      <th>3</th>\n",
       "      <td>0.989141</td>\n",
       "      <td>0.225978</td>\n",
       "      <td>0.722835</td>\n",
       "      <td>0.263076</td>\n",
       "      <td>0.092371</td>\n",
       "      <td>0.053406</td>\n",
       "      <td>94.322</td>\n",
       "      <td>0.028347</td>\n",
       "    </tr>\n",
       "    <tr>\n",
       "      <th>4</th>\n",
       "      <td>0.886660</td>\n",
       "      <td>0.298518</td>\n",
       "      <td>0.744333</td>\n",
       "      <td>0.920950</td>\n",
       "      <td>0.139587</td>\n",
       "      <td>0.088781</td>\n",
       "      <td>97.880</td>\n",
       "      <td>0.073548</td>\n",
       "    </tr>\n",
       "  </tbody>\n",
       "</table>\n",
       "</div>"
      ],
      "text/plain": [
       "   acousticness  danceability    energy  instrumentalness  liveness  \\\n",
       "0      0.988306      0.255661  0.979774          0.973006  0.121342   \n",
       "1      0.970135      0.352946  0.023852          0.957113  0.113261   \n",
       "2      0.981657      0.142249  0.912122          0.967294  0.363510   \n",
       "3      0.989141      0.225978  0.722835          0.263076  0.092371   \n",
       "4      0.886660      0.298518  0.744333          0.920950  0.139587   \n",
       "\n",
       "   speechiness   tempo   valence  \n",
       "0     0.051740  90.241  0.034018  \n",
       "1     0.032177  53.758  0.035632  \n",
       "2     0.087527  91.912  0.034325  \n",
       "3     0.053406  94.322  0.028347  \n",
       "4     0.088781  97.880  0.073548  "
      ]
     },
     "execution_count": 55,
     "metadata": {},
     "output_type": "execute_result"
    }
   ],
   "source": [
    "caracteristicas.head()"
   ]
  },
  {
   "cell_type": "code",
   "execution_count": 56,
   "metadata": {},
   "outputs": [
    {
     "data": {
      "text/html": [
       "<div>\n",
       "<style scoped>\n",
       "    .dataframe tbody tr th:only-of-type {\n",
       "        vertical-align: middle;\n",
       "    }\n",
       "\n",
       "    .dataframe tbody tr th {\n",
       "        vertical-align: top;\n",
       "    }\n",
       "\n",
       "    .dataframe thead th {\n",
       "        text-align: right;\n",
       "    }\n",
       "</style>\n",
       "<table border=\"1\" class=\"dataframe\">\n",
       "  <thead>\n",
       "    <tr style=\"text-align: right;\">\n",
       "      <th></th>\n",
       "      <th>genre_top</th>\n",
       "    </tr>\n",
       "  </thead>\n",
       "  <tbody>\n",
       "    <tr>\n",
       "      <th>0</th>\n",
       "      <td>Rock</td>\n",
       "    </tr>\n",
       "    <tr>\n",
       "      <th>1</th>\n",
       "      <td>Rock</td>\n",
       "    </tr>\n",
       "    <tr>\n",
       "      <th>2</th>\n",
       "      <td>Rock</td>\n",
       "    </tr>\n",
       "    <tr>\n",
       "      <th>3</th>\n",
       "      <td>Rock</td>\n",
       "    </tr>\n",
       "    <tr>\n",
       "      <th>4</th>\n",
       "      <td>Rock</td>\n",
       "    </tr>\n",
       "  </tbody>\n",
       "</table>\n",
       "</div>"
      ],
      "text/plain": [
       "  genre_top\n",
       "0      Rock\n",
       "1      Rock\n",
       "2      Rock\n",
       "3      Rock\n",
       "4      Rock"
      ]
     },
     "execution_count": 56,
     "metadata": {},
     "output_type": "execute_result"
    }
   ],
   "source": [
    "generos.head()"
   ]
  },
  {
   "cell_type": "code",
   "execution_count": 59,
   "metadata": {},
   "outputs": [],
   "source": [
    "# Normalizando el dataset caracteristicas\n",
    "\n",
    "from sklearn.preprocessing import StandardScaler\n",
    "\n",
    "normalizador = StandardScaler()\n",
    "norm_caracteristicas = normalizador.fit_transform(caracteristicas)"
   ]
  },
  {
   "cell_type": "code",
   "execution_count": 60,
   "metadata": {},
   "outputs": [
    {
     "data": {
      "text/plain": [
       "array([[ 1.36170559, -0.98589622,  1.45332318,  0.97997488, -0.44275673,\n",
       "        -0.36415677, -1.07200261, -1.57310227],\n",
       "       [ 1.31234237, -0.45568108, -2.46398518,  0.93775699, -0.49643644,\n",
       "        -0.49822414, -2.14506572, -1.5670495 ],\n",
       "       [ 1.34364478, -1.60400213,  1.17609079,  0.96480214,  1.16583559,\n",
       "        -0.11890299, -1.022854  , -1.57194929]])"
      ]
     },
     "execution_count": 60,
     "metadata": {},
     "output_type": "execute_result"
    }
   ],
   "source": [
    "norm_caracteristicas[:3]"
   ]
  },
  {
   "cell_type": "code",
   "execution_count": 64,
   "metadata": {},
   "outputs": [
    {
     "name": "stdout",
     "output_type": "stream",
     "text": [
      "[0.24297674 0.18044316 0.13650309 0.12994089 0.11056248 0.08302245\n",
      " 0.06923783 0.04731336]\n"
     ]
    }
   ],
   "source": [
    "# Principal Component Analysis (PCA). Explained variance ratio.\n",
    "# Modulos y paquetes necesarios.\n",
    "from sklearn.decomposition import PCA\n",
    "import matplotlib.pyplot as plt\n",
    "# Instanciado pca\n",
    "pca = PCA()\n",
    "# Ajuste del algoritmo PCA al numpy array de interes. array de interes = norm_caracteristicas.\n",
    "pca.fit(norm_caracteristicas)\n",
    "# Obtencion de Explained variance ratio. Muestra que indice de las componentes principales contribuyen mas a la varianza de los datos.\n",
    "\n",
    "exp_var_ratio = pca.explained_variance_ratio_\n",
    "\n",
    "print(exp_var_ratio)"
   ]
  },
  {
   "cell_type": "markdown",
   "metadata": {},
   "source": [
    "## c) Eleccion del numero de componentes principales que aportan la maxima varianza al dataset."
   ]
  },
  {
   "cell_type": "code",
   "execution_count": 73,
   "metadata": {},
   "outputs": [
    {
     "data": {
      "text/plain": [
       "<matplotlib.lines.Line2D at 0x21663e928d0>"
      ]
     },
     "execution_count": 73,
     "metadata": {},
     "output_type": "execute_result"
    },
    {
     "data": {
      "image/png": "[encoded data removed]",
      "text/plain": [
       "<Figure size 432x288 with 1 Axes>"
      ]
     },
     "metadata": {
      "needs_background": "light"
     },
     "output_type": "display_data"
    }
   ],
   "source": [
    "# Suma acumulada de la variable Explained variance ratio.\n",
    "suma_exp_var_ratio = np.cumsum(exp_var_ratio)\n",
    "\n",
    "# Grafico Numero del indice VS Explained variance ratio.\n",
    "import matplotlib.pyplot as plt\n",
    "\n",
    "fig, ax = plt.subplots()\n",
    "ax.plot(range(8), suma_exp_var_ratio)\n",
    "ax.axhline(y=0.9, linestyle='--')"
   ]
  },
  {
   "cell_type": "markdown",
   "metadata": {},
   "source": [
    "Es evidente pues, que para el indice sexto del array de suma acumulada de la Explained variance ratio se obtiene una varianza de los datos del 90%. Es decir, las 6 componentes principales de cada punto de los datos aportan el 90% de varianza."
   ]
  },
  {
   "cell_type": "markdown",
   "metadata": {},
   "source": [
    "## c) Aplicacion de la reduccion dimensional a los datos."
   ]
  },
  {
   "cell_type": "code",
   "execution_count": 74,
   "metadata": {},
   "outputs": [],
   "source": [
    "pca = PCA(6, random_state=10)\n",
    "pca.fit(norm_caracteristicas)\n",
    "proyeccion_pca = pca.transform(norm_caracteristicas)"
   ]
  },
  {
   "cell_type": "code",
   "execution_count": 76,
   "metadata": {},
   "outputs": [
    {
     "data": {
      "text/plain": [
       "array([[-1.9858308 , -0.93847635,  0.25652779, -0.39291583, -0.0165219 ,\n",
       "         2.01287947],\n",
       "       [-0.59421084, -3.65365434,  0.68686515, -1.32336652, -0.52235007,\n",
       "        -0.21797971],\n",
       "       [-2.26200399, -0.57382843,  1.61915489, -0.58341885,  0.7023899 ,\n",
       "         1.58668597],\n",
       "       ...,\n",
       "       [ 1.66908628,  1.84010121,  2.38294303, -2.12871589,  1.23664547,\n",
       "        -0.63277253],\n",
       "       [ 1.17001951,  2.03158181,  0.08689922,  0.88396123, -1.45765649,\n",
       "        -0.03590123],\n",
       "       [ 2.36368976,  1.15900708,  0.4473735 , -1.35198128, -0.03592518,\n",
       "         0.82678557]])"
      ]
     },
     "execution_count": 76,
     "metadata": {},
     "output_type": "execute_result"
    }
   ],
   "source": [
    "proyeccion_pca"
   ]
  },
  {
   "cell_type": "markdown",
   "metadata": {},
   "source": [
    "Como era de esperar las componentes principales son 6"
   ]
  },
  {
   "cell_type": "markdown",
   "metadata": {},
   "source": [
    "# 3. Clasificacion"
   ]
  },
  {
   "cell_type": "markdown",
   "metadata": {},
   "source": [
    "Para clasificar los generos de las canciones voy a usar dos algoritmos de aprendizaje automatico, Arboles de decision y Regresion Logistica. Estos algoritmos van a ser aplicados a la variable proyeccion_pca."
   ]
  },
  {
   "cell_type": "code",
   "execution_count": 134,
   "metadata": {},
   "outputs": [],
   "source": [
    "# Particion de los datos.\n",
    "\n",
    "from sklearn.model_selection import train_test_split\n",
    "\n",
    "X_train, X_test, y_train , y_test = train_test_split(proyeccion_pca, generos, random_state=10)\n",
    "\n",
    "# Arbol de decision.\n",
    "\n",
    "from sklearn.tree import DecisionTreeClassifier\n",
    "\n",
    "tree = DecisionTreeClassifier(random_state = 10)\n",
    "\n",
    "# Entrenamiento\n",
    "\n",
    "tree.fit(X_train, y_train)\n",
    "\n",
    "# Prediccion\n",
    "\n",
    "prediccion_tree = tree.predict(X_test)\n",
    "\n"
   ]
  },
  {
   "cell_type": "markdown",
   "metadata": {},
   "source": [
    "En el numpy array 'prediccion' obtengo la clasificacion de las canciones segun generos buscada."
   ]
  },
  {
   "cell_type": "code",
   "execution_count": 314,
   "metadata": {},
   "outputs": [
    {
     "name": "stdout",
     "output_type": "stream",
     "text": [
      "['Rock' 'Hip-Hop' 'Rock' ... 'Hip-Hop' 'Hip-Hop' 'Rock']\n"
     ]
    }
   ],
   "source": [
    "print(prediccion_tree)"
   ]
  },
  {
   "cell_type": "markdown",
   "metadata": {},
   "source": [
    "Ahora uso otro algoritmo de aprendizaje autonomo de clasificacion, 'Regresion Logistica'. Y me pregunto cual de los dos modelos es mejor."
   ]
  },
  {
   "cell_type": "code",
   "execution_count": 128,
   "metadata": {},
   "outputs": [],
   "source": [
    "# Warning\n",
    "# Tras entrenar al algorirmo aparecera un warning para evitarlo:\n",
    "import warnings\n",
    "\n",
    "warnings.filterwarnings('ignore', category=FutureWarning)\n"
   ]
  },
  {
   "cell_type": "code",
   "execution_count": null,
   "metadata": {},
   "outputs": [],
   "source": [
    "# Regresion Logistica\n",
    "# Modulos\n",
    "from sklearn.linear_model import LogisticRegression\n",
    "\n",
    "# Instanciado del algoritmo\n",
    "reg_log = LogisticRegression(random_state=10)\n",
    "\n",
    "# Entrenamiento del modelo\n",
    "reg_log.fit(X_train, y_train)\n",
    "\n",
    "# Prediccion del modelo\n",
    "\n",
    "prediccion_log = reg_log.predict(X_test)\n",
    "\n"
   ]
  },
  {
   "cell_type": "code",
   "execution_count": 126,
   "metadata": {},
   "outputs": [
    {
     "name": "stdout",
     "output_type": "stream",
     "text": [
      "['Rock' 'Rock' 'Rock' ... 'Rock' 'Hip-Hop' 'Rock']\n"
     ]
    }
   ],
   "source": [
    "print(prediccion_log)"
   ]
  },
  {
   "cell_type": "code",
   "execution_count": 267,
   "metadata": {},
   "outputs": [],
   "source": [
    "# Creacion de un informe para cada algoritmo.\n",
    "\n",
    "from sklearn.metrics import classification_report\n",
    "\n",
    "informe_tree = classification_report(y_test, prediccion_tree)\n",
    "informe_log = classification_report(y_test, prediccion_log)"
   ]
  },
  {
   "cell_type": "code",
   "execution_count": 144,
   "metadata": {},
   "outputs": [
    {
     "name": "stdout",
     "output_type": "stream",
     "text": [
      "Informe del algoritmo de decision tipo arbol:\n",
      "               precision    recall  f1-score   support\n",
      "\n",
      "     Hip-Hop       0.63      0.62      0.63       229\n",
      "        Rock       0.91      0.91      0.91       972\n",
      "\n",
      "   micro avg       0.86      0.86      0.86      1201\n",
      "   macro avg       0.77      0.77      0.77      1201\n",
      "weighted avg       0.86      0.86      0.86      1201\n",
      "\n",
      "Informe del algoritmo de decision tipo regresion logistica: \n",
      "               precision    recall  f1-score   support\n",
      "\n",
      "     Hip-Hop       0.75      0.51      0.61       229\n",
      "        Rock       0.89      0.96      0.93       972\n",
      "\n",
      "   micro avg       0.87      0.87      0.87      1201\n",
      "   macro avg       0.82      0.74      0.77      1201\n",
      "weighted avg       0.87      0.87      0.86      1201\n",
      "\n"
     ]
    }
   ],
   "source": [
    "print('Informe del algoritmo de decision tipo arbol:\\n'  , informe_tree)\n",
    "print('Informe del algoritmo de decision tipo regresion logistica: \\n', informe_log)"
   ]
  },
  {
   "cell_type": "markdown",
   "metadata": {},
   "source": [
    "Mirando a los informes se aprecia que la precision de la prediccion de las canciones cuyo genero es Hip-Hop es menor en ambos algoritmos. Por que?"
   ]
  },
  {
   "cell_type": "code",
   "execution_count": 193,
   "metadata": {},
   "outputs": [
    {
     "data": {
      "text/plain": [
       "Rock       3892\n",
       "Hip-Hop     910\n",
       "Name: genre_top, dtype: int64"
      ]
     },
     "execution_count": 193,
     "metadata": {},
     "output_type": "execute_result"
    }
   ],
   "source": [
    "generos['genre_top'].value_counts()"
   ]
  },
  {
   "cell_type": "markdown",
   "metadata": {},
   "source": [
    "El dataset de entrenamiento con el que se entrena a ambos algoritmos muestra un numero importante menos de canciones del genero 'Hip-Hop'. Si los algoritmos entrenan menos, son menos precisos."
   ]
  },
  {
   "cell_type": "markdown",
   "metadata": {},
   "source": [
    "# 4. Precision"
   ]
  },
  {
   "cell_type": "markdown",
   "metadata": {},
   "source": [
    "## a) Dataset equilibrado"
   ]
  },
  {
   "cell_type": "markdown",
   "metadata": {},
   "source": [
    "Para igualar la precision del algoritmo para predecir tanto canciones de Rock como canciones Hip-Hop, voy a equilibrar el dataframe con el mismo numero de canciones de Rock y de Hip-Hop, es decir que el algoritmo entrene \"igual\" para los dos tipos de genero, sin que ninguno de ellos tenga ventaja."
   ]
  },
  {
   "cell_type": "code",
   "execution_count": 217,
   "metadata": {},
   "outputs": [],
   "source": [
    "# Obteniendo solo las canciones que pertenecen al genero Hip-Hop.\n",
    "hiphop = df2.loc[df2['genre_top'] == 'Hip-Hop']\n",
    "len(hiphop) \n",
    "# Obteniendo una muestra de dimension igual a la dimension de las canciones de genero hip-hop, aleatoria y cuyo genero es Rock. \n",
    "rock = df2.loc[df2['genre_top'] == 'Rock'].sample(len(hiphop), random_state = 10)\n"
   ]
  },
  {
   "cell_type": "code",
   "execution_count": 224,
   "metadata": {},
   "outputs": [
    {
     "data": {
      "text/html": [
       "<div>\n",
       "<style scoped>\n",
       "    .dataframe tbody tr th:only-of-type {\n",
       "        vertical-align: middle;\n",
       "    }\n",
       "\n",
       "    .dataframe tbody tr th {\n",
       "        vertical-align: top;\n",
       "    }\n",
       "\n",
       "    .dataframe thead th {\n",
       "        text-align: right;\n",
       "    }\n",
       "</style>\n",
       "<table border=\"1\" class=\"dataframe\">\n",
       "  <thead>\n",
       "    <tr style=\"text-align: right;\">\n",
       "      <th></th>\n",
       "      <th>track_id</th>\n",
       "      <th>genre_top</th>\n",
       "      <th>acousticness</th>\n",
       "      <th>danceability</th>\n",
       "      <th>energy</th>\n",
       "      <th>instrumentalness</th>\n",
       "      <th>liveness</th>\n",
       "      <th>speechiness</th>\n",
       "      <th>tempo</th>\n",
       "      <th>valence</th>\n",
       "    </tr>\n",
       "  </thead>\n",
       "  <tbody>\n",
       "    <tr>\n",
       "      <th>742</th>\n",
       "      <td>4038</td>\n",
       "      <td>Rock</td>\n",
       "      <td>0.825838</td>\n",
       "      <td>0.263645</td>\n",
       "      <td>0.797948</td>\n",
       "      <td>0.842318</td>\n",
       "      <td>0.177089</td>\n",
       "      <td>0.045277</td>\n",
       "      <td>166.580</td>\n",
       "      <td>0.713586</td>\n",
       "    </tr>\n",
       "    <tr>\n",
       "      <th>1854</th>\n",
       "      <td>19501</td>\n",
       "      <td>Rock</td>\n",
       "      <td>0.966635</td>\n",
       "      <td>0.386114</td>\n",
       "      <td>0.651980</td>\n",
       "      <td>0.869472</td>\n",
       "      <td>0.353138</td>\n",
       "      <td>0.032208</td>\n",
       "      <td>130.767</td>\n",
       "      <td>0.712374</td>\n",
       "    </tr>\n",
       "    <tr>\n",
       "      <th>2288</th>\n",
       "      <td>31252</td>\n",
       "      <td>Rock</td>\n",
       "      <td>0.721510</td>\n",
       "      <td>0.358035</td>\n",
       "      <td>0.948187</td>\n",
       "      <td>0.801184</td>\n",
       "      <td>0.105706</td>\n",
       "      <td>0.095522</td>\n",
       "      <td>125.884</td>\n",
       "      <td>0.208728</td>\n",
       "    </tr>\n",
       "    <tr>\n",
       "      <th>1766</th>\n",
       "      <td>17947</td>\n",
       "      <td>Rock</td>\n",
       "      <td>0.617370</td>\n",
       "      <td>0.487321</td>\n",
       "      <td>0.918848</td>\n",
       "      <td>0.817050</td>\n",
       "      <td>0.089908</td>\n",
       "      <td>0.040337</td>\n",
       "      <td>129.565</td>\n",
       "      <td>0.268893</td>\n",
       "    </tr>\n",
       "    <tr>\n",
       "      <th>2141</th>\n",
       "      <td>27421</td>\n",
       "      <td>Rock</td>\n",
       "      <td>0.025464</td>\n",
       "      <td>0.245523</td>\n",
       "      <td>0.422381</td>\n",
       "      <td>0.938011</td>\n",
       "      <td>0.441009</td>\n",
       "      <td>0.038795</td>\n",
       "      <td>149.960</td>\n",
       "      <td>0.439876</td>\n",
       "    </tr>\n",
       "  </tbody>\n",
       "</table>\n",
       "</div>"
      ],
      "text/plain": [
       "      track_id genre_top  acousticness  danceability    energy  \\\n",
       "742       4038      Rock      0.825838      0.263645  0.797948   \n",
       "1854     19501      Rock      0.966635      0.386114  0.651980   \n",
       "2288     31252      Rock      0.721510      0.358035  0.948187   \n",
       "1766     17947      Rock      0.617370      0.487321  0.918848   \n",
       "2141     27421      Rock      0.025464      0.245523  0.422381   \n",
       "\n",
       "      instrumentalness  liveness  speechiness    tempo   valence  \n",
       "742           0.842318  0.177089     0.045277  166.580  0.713586  \n",
       "1854          0.869472  0.353138     0.032208  130.767  0.712374  \n",
       "2288          0.801184  0.105706     0.095522  125.884  0.208728  \n",
       "1766          0.817050  0.089908     0.040337  129.565  0.268893  \n",
       "2141          0.938011  0.441009     0.038795  149.960  0.439876  "
      ]
     },
     "execution_count": 224,
     "metadata": {},
     "output_type": "execute_result"
    }
   ],
   "source": [
    "rock.head()"
   ]
  },
  {
   "cell_type": "code",
   "execution_count": 225,
   "metadata": {},
   "outputs": [
    {
     "data": {
      "text/html": [
       "<div>\n",
       "<style scoped>\n",
       "    .dataframe tbody tr th:only-of-type {\n",
       "        vertical-align: middle;\n",
       "    }\n",
       "\n",
       "    .dataframe tbody tr th {\n",
       "        vertical-align: top;\n",
       "    }\n",
       "\n",
       "    .dataframe thead th {\n",
       "        text-align: right;\n",
       "    }\n",
       "</style>\n",
       "<table border=\"1\" class=\"dataframe\">\n",
       "  <thead>\n",
       "    <tr style=\"text-align: right;\">\n",
       "      <th></th>\n",
       "      <th>track_id</th>\n",
       "      <th>genre_top</th>\n",
       "      <th>acousticness</th>\n",
       "      <th>danceability</th>\n",
       "      <th>energy</th>\n",
       "      <th>instrumentalness</th>\n",
       "      <th>liveness</th>\n",
       "      <th>speechiness</th>\n",
       "      <th>tempo</th>\n",
       "      <th>valence</th>\n",
       "    </tr>\n",
       "  </thead>\n",
       "  <tbody>\n",
       "    <tr>\n",
       "      <th>3892</th>\n",
       "      <td>2</td>\n",
       "      <td>Hip-Hop</td>\n",
       "      <td>0.416675</td>\n",
       "      <td>0.675894</td>\n",
       "      <td>0.634476</td>\n",
       "      <td>0.010628</td>\n",
       "      <td>0.177647</td>\n",
       "      <td>0.159310</td>\n",
       "      <td>165.922</td>\n",
       "      <td>0.576661</td>\n",
       "    </tr>\n",
       "    <tr>\n",
       "      <th>3893</th>\n",
       "      <td>3</td>\n",
       "      <td>Hip-Hop</td>\n",
       "      <td>0.374408</td>\n",
       "      <td>0.528643</td>\n",
       "      <td>0.817461</td>\n",
       "      <td>0.001851</td>\n",
       "      <td>0.105880</td>\n",
       "      <td>0.461818</td>\n",
       "      <td>126.957</td>\n",
       "      <td>0.269240</td>\n",
       "    </tr>\n",
       "    <tr>\n",
       "      <th>3894</th>\n",
       "      <td>5</td>\n",
       "      <td>Hip-Hop</td>\n",
       "      <td>0.043567</td>\n",
       "      <td>0.745566</td>\n",
       "      <td>0.701470</td>\n",
       "      <td>0.000697</td>\n",
       "      <td>0.373143</td>\n",
       "      <td>0.124595</td>\n",
       "      <td>100.260</td>\n",
       "      <td>0.621661</td>\n",
       "    </tr>\n",
       "    <tr>\n",
       "      <th>3895</th>\n",
       "      <td>134</td>\n",
       "      <td>Hip-Hop</td>\n",
       "      <td>0.452217</td>\n",
       "      <td>0.513238</td>\n",
       "      <td>0.560410</td>\n",
       "      <td>0.019443</td>\n",
       "      <td>0.096567</td>\n",
       "      <td>0.525519</td>\n",
       "      <td>114.290</td>\n",
       "      <td>0.894072</td>\n",
       "    </tr>\n",
       "    <tr>\n",
       "      <th>3896</th>\n",
       "      <td>583</td>\n",
       "      <td>Hip-Hop</td>\n",
       "      <td>0.748986</td>\n",
       "      <td>0.765886</td>\n",
       "      <td>0.513173</td>\n",
       "      <td>0.957209</td>\n",
       "      <td>0.614844</td>\n",
       "      <td>0.886914</td>\n",
       "      <td>180.025</td>\n",
       "      <td>0.401672</td>\n",
       "    </tr>\n",
       "  </tbody>\n",
       "</table>\n",
       "</div>"
      ],
      "text/plain": [
       "      track_id genre_top  acousticness  danceability    energy  \\\n",
       "3892         2   Hip-Hop      0.416675      0.675894  0.634476   \n",
       "3893         3   Hip-Hop      0.374408      0.528643  0.817461   \n",
       "3894         5   Hip-Hop      0.043567      0.745566  0.701470   \n",
       "3895       134   Hip-Hop      0.452217      0.513238  0.560410   \n",
       "3896       583   Hip-Hop      0.748986      0.765886  0.513173   \n",
       "\n",
       "      instrumentalness  liveness  speechiness    tempo   valence  \n",
       "3892          0.010628  0.177647     0.159310  165.922  0.576661  \n",
       "3893          0.001851  0.105880     0.461818  126.957  0.269240  \n",
       "3894          0.000697  0.373143     0.124595  100.260  0.621661  \n",
       "3895          0.019443  0.096567     0.525519  114.290  0.894072  \n",
       "3896          0.957209  0.614844     0.886914  180.025  0.401672  "
      ]
     },
     "execution_count": 225,
     "metadata": {},
     "output_type": "execute_result"
    }
   ],
   "source": [
    "hiphop.head()"
   ]
  },
  {
   "cell_type": "code",
   "execution_count": 234,
   "metadata": {},
   "outputs": [],
   "source": [
    "# Fusion de los dos dataframes, Rock y hiphop\n",
    "DF = pd.concat([rock, hiphop])"
   ]
  },
  {
   "cell_type": "markdown",
   "metadata": {},
   "source": [
    "Datos balanceados."
   ]
  },
  {
   "cell_type": "code",
   "execution_count": null,
   "metadata": {},
   "outputs": [],
   "source": [
    "# Datasets \n",
    "caracteristicas_DF = DF.drop(['track_id', 'genre_top'], axis=1)\n",
    "generos_DF = DF[['genre_top']]\n",
    "\n",
    "# Proyeccion PCA\n",
    "\n",
    "proyeccion_pca_DF = pca.fit_transform(normalizador.fit_transform(caracteristicas_DF))\n",
    "\n",
    "# Train_test_split\n",
    "\n",
    "X_train_DF, X_test_DF, y_train_DF, y_test_DF = train_test_split(proyeccion_pca_DF, generos_DF, random_state = 10)\n",
    "\n",
    "# Clasificacion:\n",
    "## Arbol de decision\n",
    "tree_DF = DecisionTreeClassifier(random_state = 10)\n",
    "### Entrenamiento del algoritmo\n",
    "tree_DF.fit(X_train_DF, y_train_DF)\n",
    "### Prediccion\n",
    "\n",
    "prediccion_tree_DF = tree_DF.predict(X_test_DF)\n",
    "\n",
    "## Regresion Logistica\n",
    "\n",
    "log_DF = LogisticRegression(random_state = 10)\n",
    "\n",
    "### Entrenamiento del algoritmo.\n",
    "\n",
    "log_DF.fit(X_train_DF, y_train_DF)\n",
    "\n",
    "### Prediccion\n",
    "\n",
    "prediccion_log_DF = log_DF.predict(X_test_DF)\n",
    "\n",
    "\n"
   ]
  },
  {
   "cell_type": "code",
   "execution_count": 286,
   "metadata": {},
   "outputs": [
    {
     "name": "stdout",
     "output_type": "stream",
     "text": [
      "Arbol de decision \n",
      "               precision    recall  f1-score   support\n",
      "\n",
      "     Hip-Hop       0.74      0.73      0.74       230\n",
      "        Rock       0.73      0.74      0.73       225\n",
      "\n",
      "   micro avg       0.74      0.74      0.74       455\n",
      "   macro avg       0.74      0.74      0.74       455\n",
      "weighted avg       0.74      0.74      0.74       455\n",
      "\n",
      "Regresion Logistica \n",
      "               precision    recall  f1-score   support\n",
      "\n",
      "     Hip-Hop       0.84      0.80      0.82       230\n",
      "        Rock       0.80      0.85      0.83       225\n",
      "\n",
      "   micro avg       0.82      0.82      0.82       455\n",
      "   macro avg       0.82      0.82      0.82       455\n",
      "weighted avg       0.82      0.82      0.82       455\n",
      "\n"
     ]
    }
   ],
   "source": [
    "# Comparacion de los modelos.\n",
    "\n",
    "print('Arbol de decision \\n', classification_report(y_test_DF, prediccion_tree_DF ))\n",
    "print('Regresion Logistica \\n', classification_report(y_test_DF, prediccion_log_DF ))"
   ]
  },
  {
   "cell_type": "markdown",
   "metadata": {},
   "source": [
    "Tras balancear los datos se obtiene una precision parecida."
   ]
  },
  {
   "cell_type": "markdown",
   "metadata": {},
   "source": [
    "## b) Cross-validation "
   ]
  },
  {
   "cell_type": "markdown",
   "metadata": {},
   "source": [
    "Dado que la division de datos en datos de entrenamiento y de prueba es aleatoria se obtienen diferentes valores para cada conjunto de datos divididos.\n",
    "El algoritmo de Cross-validation divide a los datos multiples veces y prueba al modelo para cada division. Usare el metodo K-Fold."
   ]
  },
  {
   "cell_type": "code",
   "execution_count": null,
   "metadata": {},
   "outputs": [],
   "source": [
    "# Modulos\n",
    "from sklearn.model_selection import KFold, cross_val_score\n",
    "\n",
    "# Instanciando \n",
    "kf = KFold(n_splits = 10, random_state = 10)\n",
    "\n",
    "# Clasificacion:\n",
    "\n",
    "tree_cv = DecisionTreeClassifier(random_state=10)\n",
    "reg_log_cv = LogisticRegression(random_state=10)\n",
    "\n",
    "# Entrenamiento de los modelos.\n",
    "\n",
    "tree_score = cross_val_score( tree_cv, proyeccion_pca_DF, generos_DF, cv = kf)\n",
    "log_score = cross_val_score( reg_log_cv, proyeccion_pca_DF, generos_DF, cv= kf)"
   ]
  },
  {
   "cell_type": "code",
   "execution_count": 292,
   "metadata": {},
   "outputs": [
    {
     "data": {
      "text/plain": [
       "array([0.6978022 , 0.72527473, 0.78021978, 0.70879121, 0.71428571,\n",
       "       0.75274725, 0.76923077, 0.71978022, 0.78021978, 0.84065934])"
      ]
     },
     "execution_count": 292,
     "metadata": {},
     "output_type": "execute_result"
    }
   ],
   "source": [
    "tree_score"
   ]
  },
  {
   "cell_type": "code",
   "execution_count": 293,
   "metadata": {},
   "outputs": [
    {
     "data": {
      "text/plain": [
       "array([0.76923077, 0.80769231, 0.82417582, 0.76923077, 0.76923077,\n",
       "       0.78021978, 0.77472527, 0.74175824, 0.7967033 , 0.7967033 ])"
      ]
     },
     "execution_count": 293,
     "metadata": {},
     "output_type": "execute_result"
    }
   ],
   "source": [
    "log_score"
   ]
  },
  {
   "cell_type": "code",
   "execution_count": 308,
   "metadata": {},
   "outputs": [
    {
     "name": "stdout",
     "output_type": "stream",
     "text": [
      "Media precision Arbol de decision 0.7489010989010989\n"
     ]
    }
   ],
   "source": [
    "print('Media de precision Arbol de decision', tree_score.mean())"
   ]
  },
  {
   "cell_type": "code",
   "execution_count": 309,
   "metadata": {},
   "outputs": [
    {
     "name": "stdout",
     "output_type": "stream",
     "text": [
      "Media de precision de Regresion logistica 0.782967032967033\n"
     ]
    }
   ],
   "source": [
    "print('Media de precision de Regresion logistica', log_score.mean())"
   ]
  }
 ],
 "metadata": {
  "kernelspec": {
   "display_name": "Python 3",
   "language": "python",
   "name": "python3"
  },
  "language_info": {
   "codemirror_mode": {
    "name": "ipython",
    "version": 3
   },
   "file_extension": ".py",
   "mimetype": "text/x-python",
   "name": "python",
   "nbconvert_exporter": "python",
   "pygments_lexer": "ipython3",
   "version": "3.7.3"
  }
 },
 "nbformat": 4,
 "nbformat_minor": 2
}
